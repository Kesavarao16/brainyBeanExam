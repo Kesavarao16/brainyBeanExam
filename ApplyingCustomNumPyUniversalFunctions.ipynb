{
  "nbformat": 4,
  "nbformat_minor": 0,
  "metadata": {
    "colab": {
      "provenance": []
    },
    "kernelspec": {
      "name": "python3",
      "display_name": "Python 3"
    },
    "language_info": {
      "name": "python"
    }
  },
  "cells": [
    {
      "cell_type": "code",
      "execution_count": null,
      "metadata": {
        "id": "fMsTmZ6P_FXG"
      },
      "outputs": [],
      "source": [
        "#Applying Custom NumPy Universal Functions\n",
        "import numpy as np\n",
        "\n",
        "\n",
        "def custom_function(x):\n",
        "    return x**2 + 2*x + 1\n",
        "\n",
        "# Convert it into a universal function\n",
        "custom_ufunc = np.frompyfunc(custom_function, 1, 1)\n",
        "\n",
        "\n",
        "data = np.array([1, 2, 3, 4, 5])\n",
        "result = custom_ufunc(data)\n",
        "print(\"Custom UFunc Result:\", result)\n"
      ]
    }
  ]
}