{
  "nbformat": 4,
  "nbformat_minor": 0,
  "metadata": {
    "colab": {
      "provenance": []
    },
    "kernelspec": {
      "name": "python3",
      "display_name": "Python 3"
    },
    "language_info": {
      "name": "python"
    }
  },
  "cells": [
    {
      "cell_type": "code",
      "execution_count": null,
      "metadata": {
        "colab": {
          "base_uri": "https://localhost:8080/"
        },
        "id": "It3JMeMePl22",
        "outputId": "a812697b-e4cc-4e91-e29f-e21074f20d10"
      },
      "outputs": [
        {
          "output_type": "stream",
          "name": "stdout",
          "text": [
            "MovingAverage: [2. 3. 4. 5. 6. 7. 8.]\n"
          ]
        }
      ],
      "source": [
        "# Custom Moving Average Function for NumPy Arrays\n",
        "import numpy as np\n",
        "\n",
        "def moving_average(arr, window_size):\n",
        "    if window_size > len(arr):\n",
        "        raise ValueError(\"Window size must be smaller than or equal to the array length.\")\n",
        "    return np.convolve(arr, np.ones(window_size)/window_size, mode='valid')\n",
        "\n",
        "data = np.array([1, 2, 3, 4, 5, 6, 7, 8, 9])\n",
        "window_size = 3\n",
        "output = moving_average(data, window_size)\n",
        "print(\"MovingAverage:\", output)"
      ]
    }
  ]
}